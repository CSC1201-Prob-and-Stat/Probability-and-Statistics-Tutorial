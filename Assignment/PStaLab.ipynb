{
 "cells": [
  {
   "cell_type": "markdown",
   "id": "4c21043d",
   "metadata": {},
   "source": [
    "# Resources"
   ]
  },
  {
   "cell_type": "markdown",
   "id": "21398bc7",
   "metadata": {},
   "source": [
    "[Download the dataset here](https://data.mendeley.com/datasets/zhj366m53p/2)\n"
   ]
  },
  {
   "cell_type": "markdown",
   "id": "c3435517",
   "metadata": {},
   "source": [
    " ### IMPORT LIBRARIES"
   ]
  },
  {
   "cell_type": "code",
   "execution_count": 35,
   "id": "00774ffd",
   "metadata": {},
   "outputs": [],
   "source": [
    "# -----------------------------------------------------\n",
    "# 1. IMPORT LIBRARIES\n",
    "# -----------------------------------------------------\n",
    "import pandas as pd\n",
    "import numpy as np\n",
    "import matplotlib.pyplot as plt"
   ]
  },
  {
   "cell_type": "markdown",
   "id": "fbdb3b4f",
   "metadata": {},
   "source": [
    "###  LOAD THE DATA"
   ]
  },
  {
   "cell_type": "code",
   "execution_count": 36,
   "id": "b4c94df4",
   "metadata": {},
   "outputs": [],
   "source": [
    "\n",
    "# -----------------------------------------------------\n",
    "# 2. LOAD THE DATA\n",
    "# -----------------------------------------------------\n",
    "df = pd.read_csv(\"MoMTSim_20240722202413_1000_dataset.csv\")"
   ]
  },
  {
   "cell_type": "markdown",
   "id": "4087490b",
   "metadata": {},
   "source": [
    "###  EXPLORE THE DATA"
   ]
  },
  {
   "cell_type": "code",
   "execution_count": 37,
   "id": "87525540",
   "metadata": {},
   "outputs": [
    {
     "name": "stdout",
     "output_type": "stream",
     "text": [
      "First few rows of the dataset:\n"
     ]
    },
    {
     "data": {
      "text/html": [
       "<div>\n",
       "<style scoped>\n",
       "    .dataframe tbody tr th:only-of-type {\n",
       "        vertical-align: middle;\n",
       "    }\n",
       "\n",
       "    .dataframe tbody tr th {\n",
       "        vertical-align: top;\n",
       "    }\n",
       "\n",
       "    .dataframe thead th {\n",
       "        text-align: right;\n",
       "    }\n",
       "</style>\n",
       "<table border=\"1\" class=\"dataframe\">\n",
       "  <thead>\n",
       "    <tr style=\"text-align: right;\">\n",
       "      <th></th>\n",
       "      <th>step</th>\n",
       "      <th>transactionType</th>\n",
       "      <th>amount</th>\n",
       "      <th>initiator</th>\n",
       "      <th>oldBalInitiator</th>\n",
       "      <th>newBalInitiator</th>\n",
       "      <th>recipient</th>\n",
       "      <th>oldBalRecipient</th>\n",
       "      <th>newBalRecipient</th>\n",
       "      <th>isFraud</th>\n",
       "    </tr>\n",
       "  </thead>\n",
       "  <tbody>\n",
       "    <tr>\n",
       "      <th>0</th>\n",
       "      <td>0</td>\n",
       "      <td>PAYMENT</td>\n",
       "      <td>579.16</td>\n",
       "      <td>4018807983755588</td>\n",
       "      <td>29.32</td>\n",
       "      <td>29.32</td>\n",
       "      <td>30-0000345</td>\n",
       "      <td>0.00</td>\n",
       "      <td>0.00</td>\n",
       "      <td>0</td>\n",
       "    </tr>\n",
       "    <tr>\n",
       "      <th>1</th>\n",
       "      <td>0</td>\n",
       "      <td>TRANSFER</td>\n",
       "      <td>39.03</td>\n",
       "      <td>4610593854752035</td>\n",
       "      <td>39.03</td>\n",
       "      <td>0.00</td>\n",
       "      <td>4944921135715488</td>\n",
       "      <td>55.94</td>\n",
       "      <td>94.98</td>\n",
       "      <td>1</td>\n",
       "    </tr>\n",
       "    <tr>\n",
       "      <th>2</th>\n",
       "      <td>0</td>\n",
       "      <td>TRANSFER</td>\n",
       "      <td>21.78</td>\n",
       "      <td>4840578447365454</td>\n",
       "      <td>21.78</td>\n",
       "      <td>0.00</td>\n",
       "      <td>4305579785620656</td>\n",
       "      <td>58.09</td>\n",
       "      <td>79.88</td>\n",
       "      <td>1</td>\n",
       "    </tr>\n",
       "    <tr>\n",
       "      <th>3</th>\n",
       "      <td>0</td>\n",
       "      <td>PAYMENT</td>\n",
       "      <td>570.22</td>\n",
       "      <td>4958066799829630</td>\n",
       "      <td>5.29</td>\n",
       "      <td>5.29</td>\n",
       "      <td>00-0000388</td>\n",
       "      <td>0.00</td>\n",
       "      <td>0.00</td>\n",
       "      <td>0</td>\n",
       "    </tr>\n",
       "    <tr>\n",
       "      <th>4</th>\n",
       "      <td>0</td>\n",
       "      <td>PAYMENT</td>\n",
       "      <td>574.80</td>\n",
       "      <td>4149196095918843</td>\n",
       "      <td>82.63</td>\n",
       "      <td>82.63</td>\n",
       "      <td>80-0005320</td>\n",
       "      <td>0.00</td>\n",
       "      <td>0.00</td>\n",
       "      <td>0</td>\n",
       "    </tr>\n",
       "  </tbody>\n",
       "</table>\n",
       "</div>"
      ],
      "text/plain": [
       "   step transactionType  amount         initiator  oldBalInitiator  \\\n",
       "0     0         PAYMENT  579.16  4018807983755588            29.32   \n",
       "1     0        TRANSFER   39.03  4610593854752035            39.03   \n",
       "2     0        TRANSFER   21.78  4840578447365454            21.78   \n",
       "3     0         PAYMENT  570.22  4958066799829630             5.29   \n",
       "4     0         PAYMENT  574.80  4149196095918843            82.63   \n",
       "\n",
       "   newBalInitiator         recipient  oldBalRecipient  newBalRecipient  \\\n",
       "0            29.32        30-0000345             0.00             0.00   \n",
       "1             0.00  4944921135715488            55.94            94.98   \n",
       "2             0.00  4305579785620656            58.09            79.88   \n",
       "3             5.29        00-0000388             0.00             0.00   \n",
       "4            82.63        80-0005320             0.00             0.00   \n",
       "\n",
       "   isFraud  \n",
       "0        0  \n",
       "1        1  \n",
       "2        1  \n",
       "3        0  \n",
       "4        0  "
      ]
     },
     "metadata": {},
     "output_type": "display_data"
    }
   ],
   "source": [
    "# -----------------------------------------------------\n",
    "# 3. EXPLORE THE DATA\n",
    "# -----------------------------------------------------\n",
    "\n",
    "# 3.1 View the first few rows to understand the data structure\n",
    "print(\"First few rows of the dataset:\")\n",
    "display(df.head())"
   ]
  },
  {
   "cell_type": "markdown",
   "id": "d6820290",
   "metadata": {},
   "source": [
    "#### Dimensions of the DataFrame"
   ]
  },
  {
   "cell_type": "code",
   "execution_count": 38,
   "id": "944ce6b7",
   "metadata": {},
   "outputs": [
    {
     "name": "stdout",
     "output_type": "stream",
     "text": [
      "\n",
      "Shape of the DataFrame: (4225958, 10)\n"
     ]
    }
   ],
   "source": [
    "# 3.2 Check the dimensions of the DataFrame\n",
    "print(f\"\\nShape of the DataFrame: {df.shape}\")\n"
   ]
  },
  {
   "cell_type": "markdown",
   "id": "6195fa59",
   "metadata": {},
   "source": [
    "#### Summary Statistics"
   ]
  },
  {
   "cell_type": "code",
   "execution_count": 39,
   "id": "84f5353f",
   "metadata": {},
   "outputs": [
    {
     "name": "stdout",
     "output_type": "stream",
     "text": [
      "\n",
      "Statistical summary of numeric columns:\n"
     ]
    },
    {
     "data": {
      "text/html": [
       "<div>\n",
       "<style scoped>\n",
       "    .dataframe tbody tr th:only-of-type {\n",
       "        vertical-align: middle;\n",
       "    }\n",
       "\n",
       "    .dataframe tbody tr th {\n",
       "        vertical-align: top;\n",
       "    }\n",
       "\n",
       "    .dataframe thead th {\n",
       "        text-align: right;\n",
       "    }\n",
       "</style>\n",
       "<table border=\"1\" class=\"dataframe\">\n",
       "  <thead>\n",
       "    <tr style=\"text-align: right;\">\n",
       "      <th></th>\n",
       "      <th>step</th>\n",
       "      <th>amount</th>\n",
       "      <th>initiator</th>\n",
       "      <th>oldBalInitiator</th>\n",
       "      <th>newBalInitiator</th>\n",
       "      <th>oldBalRecipient</th>\n",
       "      <th>newBalRecipient</th>\n",
       "      <th>isFraud</th>\n",
       "    </tr>\n",
       "  </thead>\n",
       "  <tbody>\n",
       "    <tr>\n",
       "      <th>count</th>\n",
       "      <td>4.225958e+06</td>\n",
       "      <td>4.225958e+06</td>\n",
       "      <td>4.225958e+06</td>\n",
       "      <td>4.225958e+06</td>\n",
       "      <td>4.225958e+06</td>\n",
       "      <td>4.225958e+06</td>\n",
       "      <td>4.225958e+06</td>\n",
       "      <td>4.225958e+06</td>\n",
       "    </tr>\n",
       "    <tr>\n",
       "      <th>mean</th>\n",
       "      <td>9.811771e+01</td>\n",
       "      <td>5.302139e+04</td>\n",
       "      <td>4.495008e+15</td>\n",
       "      <td>2.246055e+07</td>\n",
       "      <td>2.246527e+07</td>\n",
       "      <td>1.685005e+06</td>\n",
       "      <td>1.703967e+06</td>\n",
       "      <td>5.284288e-01</td>\n",
       "    </tr>\n",
       "    <tr>\n",
       "      <th>std</th>\n",
       "      <td>5.573710e+01</td>\n",
       "      <td>2.708194e+06</td>\n",
       "      <td>2.912521e+14</td>\n",
       "      <td>6.418504e+07</td>\n",
       "      <td>6.421561e+07</td>\n",
       "      <td>6.795783e+06</td>\n",
       "      <td>6.802160e+06</td>\n",
       "      <td>4.991912e-01</td>\n",
       "    </tr>\n",
       "    <tr>\n",
       "      <th>min</th>\n",
       "      <td>0.000000e+00</td>\n",
       "      <td>0.000000e+00</td>\n",
       "      <td>4.000000e+15</td>\n",
       "      <td>-1.999926e+05</td>\n",
       "      <td>-1.999926e+05</td>\n",
       "      <td>-7.477966e+04</td>\n",
       "      <td>0.000000e+00</td>\n",
       "      <td>0.000000e+00</td>\n",
       "    </tr>\n",
       "    <tr>\n",
       "      <th>25%</th>\n",
       "      <td>5.000000e+01</td>\n",
       "      <td>9.444000e+01</td>\n",
       "      <td>4.237994e+15</td>\n",
       "      <td>4.681000e+01</td>\n",
       "      <td>0.000000e+00</td>\n",
       "      <td>3.345156e+04</td>\n",
       "      <td>4.251237e+04</td>\n",
       "      <td>0.000000e+00</td>\n",
       "    </tr>\n",
       "    <tr>\n",
       "      <th>50%</th>\n",
       "      <td>9.900000e+01</td>\n",
       "      <td>5.966900e+02</td>\n",
       "      <td>4.491576e+15</td>\n",
       "      <td>3.655435e+03</td>\n",
       "      <td>0.000000e+00</td>\n",
       "      <td>2.007614e+05</td>\n",
       "      <td>2.042479e+05</td>\n",
       "      <td>1.000000e+00</td>\n",
       "    </tr>\n",
       "    <tr>\n",
       "      <th>75%</th>\n",
       "      <td>1.470000e+02</td>\n",
       "      <td>1.708469e+04</td>\n",
       "      <td>4.747260e+15</td>\n",
       "      <td>2.344082e+05</td>\n",
       "      <td>8.150306e+04</td>\n",
       "      <td>2.002134e+06</td>\n",
       "      <td>2.041814e+06</td>\n",
       "      <td>1.000000e+00</td>\n",
       "    </tr>\n",
       "    <tr>\n",
       "      <th>max</th>\n",
       "      <td>1.920000e+02</td>\n",
       "      <td>7.654805e+08</td>\n",
       "      <td>5.000000e+15</td>\n",
       "      <td>6.409231e+08</td>\n",
       "      <td>6.409231e+08</td>\n",
       "      <td>3.810134e+08</td>\n",
       "      <td>3.813883e+08</td>\n",
       "      <td>1.000000e+00</td>\n",
       "    </tr>\n",
       "  </tbody>\n",
       "</table>\n",
       "</div>"
      ],
      "text/plain": [
       "               step        amount     initiator  oldBalInitiator  \\\n",
       "count  4.225958e+06  4.225958e+06  4.225958e+06     4.225958e+06   \n",
       "mean   9.811771e+01  5.302139e+04  4.495008e+15     2.246055e+07   \n",
       "std    5.573710e+01  2.708194e+06  2.912521e+14     6.418504e+07   \n",
       "min    0.000000e+00  0.000000e+00  4.000000e+15    -1.999926e+05   \n",
       "25%    5.000000e+01  9.444000e+01  4.237994e+15     4.681000e+01   \n",
       "50%    9.900000e+01  5.966900e+02  4.491576e+15     3.655435e+03   \n",
       "75%    1.470000e+02  1.708469e+04  4.747260e+15     2.344082e+05   \n",
       "max    1.920000e+02  7.654805e+08  5.000000e+15     6.409231e+08   \n",
       "\n",
       "       newBalInitiator  oldBalRecipient  newBalRecipient       isFraud  \n",
       "count     4.225958e+06     4.225958e+06     4.225958e+06  4.225958e+06  \n",
       "mean      2.246527e+07     1.685005e+06     1.703967e+06  5.284288e-01  \n",
       "std       6.421561e+07     6.795783e+06     6.802160e+06  4.991912e-01  \n",
       "min      -1.999926e+05    -7.477966e+04     0.000000e+00  0.000000e+00  \n",
       "25%       0.000000e+00     3.345156e+04     4.251237e+04  0.000000e+00  \n",
       "50%       0.000000e+00     2.007614e+05     2.042479e+05  1.000000e+00  \n",
       "75%       8.150306e+04     2.002134e+06     2.041814e+06  1.000000e+00  \n",
       "max       6.409231e+08     3.810134e+08     3.813883e+08  1.000000e+00  "
      ]
     },
     "metadata": {},
     "output_type": "display_data"
    }
   ],
   "source": [
    "# 3.3 Get a quick statistical summary of the numeric columns\n",
    "print(\"\\nStatistical summary of numeric columns:\")\n",
    "display(df.describe())"
   ]
  },
  {
   "cell_type": "markdown",
   "id": "0fb47ba1",
   "metadata": {},
   "source": [
    "#### Missing Values"
   ]
  },
  {
   "cell_type": "code",
   "execution_count": 40,
   "id": "ed12db16",
   "metadata": {},
   "outputs": [
    {
     "name": "stdout",
     "output_type": "stream",
     "text": [
      "\n",
      "Number of missing values in each column:\n"
     ]
    },
    {
     "data": {
      "text/plain": [
       "step               0\n",
       "transactionType    0\n",
       "amount             0\n",
       "initiator          0\n",
       "oldBalInitiator    0\n",
       "newBalInitiator    0\n",
       "recipient          0\n",
       "oldBalRecipient    0\n",
       "newBalRecipient    0\n",
       "isFraud            0\n",
       "dtype: int64"
      ]
     },
     "metadata": {},
     "output_type": "display_data"
    }
   ],
   "source": [
    "# 3.4 Check for missing values\n",
    "print(\"\\nNumber of missing values in each column:\")\n",
    "display(df.isnull().sum())"
   ]
  },
  {
   "cell_type": "markdown",
   "id": "c2b93ecd",
   "metadata": {},
   "source": [
    "### VISUALIZATIONS"
   ]
  },
  {
   "cell_type": "code",
   "execution_count": 41,
   "id": "934c1ee8",
   "metadata": {},
   "outputs": [
    {
     "data": {
      "image/png": "[encoded data removed]",
      "text/plain": [
       "<Figure size 640x480 with 1 Axes>"
      ]
     },
     "metadata": {},
     "output_type": "display_data"
    }
   ],
   "source": [
    "# -----------------------------------------------------\n",
    "# 4. BASIC VISUALIZATIONS\n",
    "# -----------------------------------------------------\n",
    "\n",
    "# 4.1 Histogram of the transaction amount\n",
    "plt.figure()\n",
    "df['amount'].hist(bins=30)\n",
    "plt.yscale(\"log\")  # Log scale on the y-axis\n",
    "plt.title(\"Distribution of Transaction Amounts (log scale on y-axis)\")\n",
    "plt.xlabel(\"Transaction Amount\")\n",
    "plt.ylabel(\"Frequency\")\n",
    "plt.show()"
   ]
  },
  {
   "cell_type": "markdown",
   "id": "8c06b5a3",
   "metadata": {},
   "source": [
    "#### Bar chart of Transaction Type"
   ]
  },
  {
   "cell_type": "code",
   "execution_count": 42,
   "id": "1478469a",
   "metadata": {},
   "outputs": [
    {
     "data": {
      "image/png": "[encoded data removed]",
      "text/plain": [
       "<Figure size 640x480 with 1 Axes>"
      ]
     },
     "metadata": {},
     "output_type": "display_data"
    }
   ],
   "source": [
    "# 4.2 Count plot (bar chart) of transaction type\n",
    "# Count the occurrences of each transaction type\n",
    "transaction_counts = df['transactionType'].value_counts()\n",
    "\n",
    "# Generate a distinct color for each bar from the default color cycle\n",
    "colors = [f'C{i}' for i in range(len(transaction_counts))]\n",
    "\n",
    "plt.figure()\n",
    "transaction_counts.plot(kind='bar', color=colors)\n",
    "plt.title(\"Count of Different Transaction Types\")\n",
    "plt.xlabel(\"Transaction Type\")\n",
    "plt.ylabel(\"Count\")\n",
    "plt.tight_layout()  # Ensures labels aren't cut off\n",
    "plt.show()"
   ]
  },
  {
   "cell_type": "markdown",
   "id": "9e0ae19f",
   "metadata": {},
   "source": [
    "#### Correlation matrix"
   ]
  },
  {
   "cell_type": "code",
   "execution_count": 43,
   "id": "fd4e873c",
   "metadata": {},
   "outputs": [
    {
     "data": {
      "image/png": "[encoded data removed]",
      "text/plain": [
       "<Figure size 800x600 with 2 Axes>"
      ]
     },
     "metadata": {},
     "output_type": "display_data"
    }
   ],
   "source": [
    "# 4.3 Correlation matrix (for numeric columns)\n",
    "# Calculate the correlation matrix (numeric_only=True to handle numeric columns)\n",
    "corr = df.corr(numeric_only=True)\n",
    "\n",
    "# Create the figure\n",
    "plt.figure(figsize=(8,6))\n",
    "\n",
    "# Display the correlation matrix\n",
    "im = plt.imshow(corr, cmap='coolwarm', vmin=-1, vmax=1, aspect='auto')\n",
    "\n",
    "# Add the colorbar\n",
    "plt.colorbar(im)\n",
    "\n",
    "# Label the axes with the column names\n",
    "plt.xticks(range(len(corr.columns)), corr.columns, rotation=45, ha='right')\n",
    "plt.yticks(range(len(corr.columns)), corr.columns)\n",
    "\n",
    "# Add a title\n",
    "plt.title('Correlation Matrix', pad=15)\n",
    "\n",
    "# Adjust layout so labels don't get cut off\n",
    "plt.tight_layout()\n",
    "\n",
    "# Show the plot\n",
    "plt.show()"
   ]
  },
  {
   "cell_type": "code",
   "execution_count": 44,
   "id": "cf61bf9d",
   "metadata": {},
   "outputs": [
    {
     "name": "stdout",
     "output_type": "stream",
     "text": [
      "\n",
      "Correlation matrix values:\n"
     ]
    },
    {
     "data": {
      "text/html": [
       "<div>\n",
       "<style scoped>\n",
       "    .dataframe tbody tr th:only-of-type {\n",
       "        vertical-align: middle;\n",
       "    }\n",
       "\n",
       "    .dataframe tbody tr th {\n",
       "        vertical-align: top;\n",
       "    }\n",
       "\n",
       "    .dataframe thead th {\n",
       "        text-align: right;\n",
       "    }\n",
       "</style>\n",
       "<table border=\"1\" class=\"dataframe\">\n",
       "  <thead>\n",
       "    <tr style=\"text-align: right;\">\n",
       "      <th></th>\n",
       "      <th>step</th>\n",
       "      <th>amount</th>\n",
       "      <th>initiator</th>\n",
       "      <th>oldBalInitiator</th>\n",
       "      <th>newBalInitiator</th>\n",
       "      <th>oldBalRecipient</th>\n",
       "      <th>newBalRecipient</th>\n",
       "      <th>isFraud</th>\n",
       "    </tr>\n",
       "  </thead>\n",
       "  <tbody>\n",
       "    <tr>\n",
       "      <th>step</th>\n",
       "      <td>1.000000</td>\n",
       "      <td>-0.017772</td>\n",
       "      <td>0.000788</td>\n",
       "      <td>0.108630</td>\n",
       "      <td>0.107995</td>\n",
       "      <td>0.104394</td>\n",
       "      <td>0.104241</td>\n",
       "      <td>-0.028868</td>\n",
       "    </tr>\n",
       "    <tr>\n",
       "      <th>amount</th>\n",
       "      <td>-0.017772</td>\n",
       "      <td>1.000000</td>\n",
       "      <td>0.000258</td>\n",
       "      <td>0.001075</td>\n",
       "      <td>0.033095</td>\n",
       "      <td>-0.001336</td>\n",
       "      <td>0.001777</td>\n",
       "      <td>-0.007688</td>\n",
       "    </tr>\n",
       "    <tr>\n",
       "      <th>initiator</th>\n",
       "      <td>0.000788</td>\n",
       "      <td>0.000258</td>\n",
       "      <td>1.000000</td>\n",
       "      <td>-0.013033</td>\n",
       "      <td>-0.013040</td>\n",
       "      <td>0.002486</td>\n",
       "      <td>0.002523</td>\n",
       "      <td>0.011919</td>\n",
       "    </tr>\n",
       "    <tr>\n",
       "      <th>oldBalInitiator</th>\n",
       "      <td>0.108630</td>\n",
       "      <td>0.001075</td>\n",
       "      <td>-0.013033</td>\n",
       "      <td>1.000000</td>\n",
       "      <td>0.999272</td>\n",
       "      <td>-0.047689</td>\n",
       "      <td>-0.047417</td>\n",
       "      <td>-0.273513</td>\n",
       "    </tr>\n",
       "    <tr>\n",
       "      <th>newBalInitiator</th>\n",
       "      <td>0.107995</td>\n",
       "      <td>0.033095</td>\n",
       "      <td>-0.013040</td>\n",
       "      <td>0.999272</td>\n",
       "      <td>1.000000</td>\n",
       "      <td>-0.047767</td>\n",
       "      <td>-0.047629</td>\n",
       "      <td>-0.273949</td>\n",
       "    </tr>\n",
       "    <tr>\n",
       "      <th>oldBalRecipient</th>\n",
       "      <td>0.104394</td>\n",
       "      <td>-0.001336</td>\n",
       "      <td>0.002486</td>\n",
       "      <td>-0.047689</td>\n",
       "      <td>-0.047767</td>\n",
       "      <td>1.000000</td>\n",
       "      <td>0.999374</td>\n",
       "      <td>0.083863</td>\n",
       "    </tr>\n",
       "    <tr>\n",
       "      <th>newBalRecipient</th>\n",
       "      <td>0.104241</td>\n",
       "      <td>0.001777</td>\n",
       "      <td>0.002523</td>\n",
       "      <td>-0.047417</td>\n",
       "      <td>-0.047629</td>\n",
       "      <td>0.999374</td>\n",
       "      <td>1.000000</td>\n",
       "      <td>0.085447</td>\n",
       "    </tr>\n",
       "    <tr>\n",
       "      <th>isFraud</th>\n",
       "      <td>-0.028868</td>\n",
       "      <td>-0.007688</td>\n",
       "      <td>0.011919</td>\n",
       "      <td>-0.273513</td>\n",
       "      <td>-0.273949</td>\n",
       "      <td>0.083863</td>\n",
       "      <td>0.085447</td>\n",
       "      <td>1.000000</td>\n",
       "    </tr>\n",
       "  </tbody>\n",
       "</table>\n",
       "</div>"
      ],
      "text/plain": [
       "                     step    amount  initiator  oldBalInitiator  \\\n",
       "step             1.000000 -0.017772   0.000788         0.108630   \n",
       "amount          -0.017772  1.000000   0.000258         0.001075   \n",
       "initiator        0.000788  0.000258   1.000000        -0.013033   \n",
       "oldBalInitiator  0.108630  0.001075  -0.013033         1.000000   \n",
       "newBalInitiator  0.107995  0.033095  -0.013040         0.999272   \n",
       "oldBalRecipient  0.104394 -0.001336   0.002486        -0.047689   \n",
       "newBalRecipient  0.104241  0.001777   0.002523        -0.047417   \n",
       "isFraud         -0.028868 -0.007688   0.011919        -0.273513   \n",
       "\n",
       "                 newBalInitiator  oldBalRecipient  newBalRecipient   isFraud  \n",
       "step                    0.107995         0.104394         0.104241 -0.028868  \n",
       "amount                  0.033095        -0.001336         0.001777 -0.007688  \n",
       "initiator              -0.013040         0.002486         0.002523  0.011919  \n",
       "oldBalInitiator         0.999272        -0.047689        -0.047417 -0.273513  \n",
       "newBalInitiator         1.000000        -0.047767        -0.047629 -0.273949  \n",
       "oldBalRecipient        -0.047767         1.000000         0.999374  0.083863  \n",
       "newBalRecipient        -0.047629         0.999374         1.000000  0.085447  \n",
       "isFraud                -0.273949         0.083863         0.085447  1.000000  "
      ]
     },
     "metadata": {},
     "output_type": "display_data"
    }
   ],
   "source": [
    "print(\"\\nCorrelation matrix values:\")\n",
    "display(corr)"
   ]
  },
  {
   "cell_type": "markdown",
   "id": "523ed185",
   "metadata": {},
   "source": [
    "# Assignment\n",
    "\n",
    "1. **Probability Distributions & Summary Statistics:**  \n",
    "   - Compute the mean and standard deviation of the `amount` column.  \n",
    "   - Create a boxplot for `amount` to visualize its distribution.  \n",
    "   - Identify and discuss any potential outliers.\n",
    "\n",
    "2. **Conditional Probabilities:**  \n",
    "   - Using the `isFraud` column which indicates if a transaction is fraudulent, compute the probability of fraud in the dataset overall.  \n",
    "   - Condition on a categorical feature (e.g., `transactionType`) and compute the probability of fraud given that `transactionType` is `'X'` (choose any specific type).  \n",
    "   - Compare the conditional probability to the overall fraud probability. Discuss any insights or differences you observe.\n",
    "\n",
    "3. **Report:**  \n",
    "   - Summarize all findings in a short paragraph. Highlight key insights about the distribution of transactions, the fraud rates, and any interesting patterns.  \n",
    "\n",
    "**Instructions:**  \n",
    "- Use code cells to perform your calculations and visualizations.  \n",
    "- Write brief markdown cells explaining your steps and interpreting your results.\n",
    "- Indicate your name and student registration number in a markdown cell\n",
    "- Submit your notebook via muele\n",
    "- Deadline for submiting this individual assignment is April 14, 2025 at 11:59PM EAT\n",
    "\n",
    "Have fun exploring the data!\n"
   ]
  },
  {
   "cell_type": "code",
   "execution_count": null,
   "id": "eedbdd9b",
   "metadata": {},
   "outputs": [],
   "source": []
  }
 ],
 "metadata": {
  "kernelspec": {
   "display_name": "Python 3 (ipykernel)",
   "language": "python",
   "name": "python3"
  },
  "language_info": {
   "codemirror_mode": {
    "name": "ipython",
    "version": 3
   },
   "file_extension": ".py",
   "mimetype": "text/x-python",
   "name": "python",
   "nbconvert_exporter": "python",
   "pygments_lexer": "ipython3",
   "version": "3.11.5"
  }
 },
 "nbformat": 4,
 "nbformat_minor": 5
}
